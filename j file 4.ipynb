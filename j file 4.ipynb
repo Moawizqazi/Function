{
 "cells": [
  {
   "cell_type": "code",
   "execution_count": 5,
   "id": "a1961fdf",
   "metadata": {},
   "outputs": [
    {
     "data": {
      "text/plain": [
       "'Muhammad \"Q\" Moawiz'"
      ]
     },
     "execution_count": 5,
     "metadata": {},
     "output_type": "execute_result"
    }
   ],
   "source": [
    "name = \"Muhammad\\\"Moawiz\"\n",
    "fname = 'Muhammad \"Q\" Moawiz'\n",
    "fname"
   ]
  },
  {
   "cell_type": "code",
   "execution_count": 13,
   "id": "15316695",
   "metadata": {},
   "outputs": [
    {
     "data": {
      "text/plain": [
       "'Student_NameMuhammad\"Moawiz'"
      ]
     },
     "execution_count": 13,
     "metadata": {},
     "output_type": "execute_result"
    }
   ],
   "source": [
    "\"Student_Name\" +  name\n"
   ]
  },
  {
   "cell_type": "code",
   "execution_count": 16,
   "id": "77c49469",
   "metadata": {},
   "outputs": [
    {
     "name": "stdout",
     "output_type": "stream",
     "text": [
      "\n",
      "NED University\n",
      "Post Graduation Diploma\n",
      "Batch-3\n",
      "\n",
      "\n",
      "Student_Name = Muhammad Moawiz\n",
      "Father_Name  = Qazi Muhammad Iqbal\n",
      "Education    = BE lectrical\n",
      "Roll_N0      = 1234\n",
      "    \n"
     ]
    }
   ],
   "source": [
    "name = \"Muhammad Moawiz\"\n",
    "fname  = \"Qazi Muhammad Iqbal\"\n",
    "education    = \"BE lectrical\"\n",
    "roll_no      = 1234\n",
    "\n",
    "\n",
    "card ='''\n",
    "NED University\n",
    "Post Graduation Diploma\n",
    "Batch-3\n",
    "\n",
    "\n",
    "Student_Name = {}\n",
    "Father_Name  = {}\n",
    "Education    = {}\n",
    "Roll_N0      = {}\n",
    "    '''.format(name,fname,education,roll_no)\n",
    "\n",
    "\n",
    "print(card)"
   ]
  },
  {
   "cell_type": "code",
   "execution_count": 17,
   "id": "81096e17",
   "metadata": {},
   "outputs": [
    {
     "name": "stdout",
     "output_type": "stream",
     "text": [
      "\n",
      "NED University\n",
      "Post Graduation Diploma\n",
      "Batch-3\n",
      "\n",
      "\n",
      "Student_Name = Muhammad Moawiz\n",
      "Father_Name  = Qazi Muhammad Iqbal\n",
      "Education    = BE lectrical\n",
      "Roll_N0      = 1234\n",
      "    \n"
     ]
    }
   ],
   "source": [
    "name = \"Muhammad Moawiz\"\n",
    "fname  = \"Qazi Muhammad Iqbal\"\n",
    "education    = \"BE lectrical\"\n",
    "roll_no      = 1234\n",
    "\n",
    "\n",
    "card =f'''\n",
    "NED University\n",
    "Post Graduation Diploma\n",
    "Batch-3\n",
    "\n",
    "\n",
    "Student_Name = {name}\n",
    "Father_Name  = {fname}\n",
    "Education    = {education}\n",
    "Roll_N0      = {roll_no}\n",
    "    '''\n",
    "\n",
    "\n",
    "print(card)"
   ]
  },
  {
   "cell_type": "code",
   "execution_count": null,
   "id": "5afe9037",
   "metadata": {},
   "outputs": [],
   "source": [
    "s1 =[\"Muhammad Moawiz\"\"Qazi Muhammad Iqbal\"\"BE lectrical\" 1234]\n",
    "print()"
   ]
  },
  {
   "cell_type": "code",
   "execution_count": 27,
   "id": "630d1bcd",
   "metadata": {},
   "outputs": [
    {
     "name": "stdout",
     "output_type": "stream",
     "text": [
      "\n",
      "NED University\n",
      "Post Graduation Diploma\n",
      "Batch-3\n",
      "\n",
      "\n",
      "Student_Name = Moawiz\n",
      "Father_Name  = PGD\n",
      "Education    = BE Electrical\n",
      "Roll_N0      = 1234\n",
      "\n",
      "--------------------------------\n",
      "    \n",
      "\n",
      "NED University\n",
      "Post Graduation Diploma\n",
      "Batch-3\n",
      "\n",
      "\n",
      "Student_Name = Hamza\n",
      "Father_Name  = PGD\n",
      "Education    = BE Mechanical\n",
      "Roll_N0      = 2345\n",
      "\n",
      "--------------------------------\n",
      "    \n",
      "\n",
      "NED University\n",
      "Post Graduation Diploma\n",
      "Batch-3\n",
      "\n",
      "\n",
      "Student_Name = Umer\n",
      "Father_Name  = PGD\n",
      "Education    = BE Civil\n",
      "Roll_N0      = 7894\n",
      "\n",
      "--------------------------------\n",
      "    \n"
     ]
    }
   ],
   "source": [
    "def idcard(name,fname,education,roll_no):\n",
    "    card =f'''\n",
    "NED University\n",
    "Post Graduation Diploma\n",
    "Batch-3\n",
    "\n",
    "\n",
    "Student_Name = {name}\n",
    "Father_Name  = {fname}\n",
    "Education    = {education}\n",
    "Roll_N0      = {roll_no}\n",
    "\n",
    "--------------------------------\n",
    "    '''\n",
    "    return card\n",
    "l =[{\"Name\" : \"Moawiz\", \"Course\" : \"PGD\" ,\"Education\":\"BE Electrical\" ,\"Roll-No\": 1234},{\"Name\" : \"Hamza\", \"Course\" : \"PGD\" ,\"Education\":\"BE Mechanical\" ,\"Roll-No\":2345},{\"Name\" : \"Umer\", \"Course\" : \"PGD\" ,\"Education\":\"BE Civil\" ,\"Roll-No\": 7894}]\n",
    "x =lambda a :idcard(*a)\n",
    "for i in l:\n",
    "    print(x(i.values()))\n"
   ]
  },
  {
   "cell_type": "code",
   "execution_count": 51,
   "id": "431d146e",
   "metadata": {},
   "outputs": [
    {
     "name": "stdout",
     "output_type": "stream",
     "text": [
      "\n",
      "NED University\n",
      "Post Graduation Diploma\n",
      "Batch-3\n",
      "\n",
      "\n",
      "Student_Name = Muhammad Moawiz\n",
      "Father_Name  = Qazi Muhammad Iqbal\n",
      "Education    = BE lectrical\n",
      "Roll_N0      = 1234\n",
      "\n",
      "--------------------------------\n",
      "    \n",
      "------->---------------->\n",
      "\n",
      "NED University\n",
      "Post Graduation Diploma\n",
      "Batch-3\n",
      "\n",
      "\n",
      "Student_Name = Moawiz\n",
      "Father_Name  = PGD\n",
      "Education    = BE Electrical\n",
      "Roll_N0      = 1234\n",
      "\n",
      "--------------------------------\n",
      "    \n"
     ]
    }
   ],
   "source": [
    "s1 =[\"Muhammad Moawiz\",\"Qazi Muhammad Iqbal\",\"BE lectrical\" ,1234]\n",
    "print(idcard(*s1))\n",
    "\n",
    "print(\"------->---------------->\")\n",
    "\n",
    "l ={\"name\" : \"Moawiz\", \"fname\" : \"PGD\" ,\"education\":\"BE Electrical\" ,\"roll_no\": 1234}\n",
    "print(idcard(**l))"
   ]
  },
  {
   "cell_type": "code",
   "execution_count": 34,
   "id": "172c2052",
   "metadata": {},
   "outputs": [
    {
     "name": "stdout",
     "output_type": "stream",
     "text": [
      "\n",
      "NED University\n",
      "Post Graduation Diploma\n",
      "Batch-3\n",
      "\n",
      "\n",
      "Student_Name = Moawiz\n",
      "Father_Name  = M Iqbal\n",
      "Education    = BE Electrical\n",
      "Roll_N0      = 1234\n",
      "\n",
      "--------------------------------\n",
      "    \n",
      "\n",
      "NED University\n",
      "Post Graduation Diploma\n",
      "Batch-3\n",
      "\n",
      "\n",
      "Student_Name = Hamza\n",
      "Father_Name  = ABC\n",
      "Education    = BE Mechanical\n",
      "Roll_N0      = 2345\n",
      "\n",
      "--------------------------------\n",
      "    \n",
      "\n",
      "NED University\n",
      "Post Graduation Diploma\n",
      "Batch-3\n",
      "\n",
      "\n",
      "Student_Name = Umer\n",
      "Father_Name  = XYZ\n",
      "Education    = BE Civil\n",
      "Roll_N0      = 7894\n",
      "\n",
      "--------------------------------\n",
      "    \n"
     ]
    }
   ],
   "source": [
    "idcard=lambda name,fname,education,roll_no :f'''\n",
    "NED University\n",
    "Post Graduation Diploma\n",
    "Batch-3\n",
    "\n",
    "\n",
    "Student_Name = {name}\n",
    "Father_Name  = {fname}\n",
    "Education    = {education}\n",
    "Roll_N0      = {roll_no}\n",
    "\n",
    "--------------------------------\n",
    "    '''\n",
    "data =[{\"name\" : \"Moawiz\", \"fname\": \"M Iqbal\",\"education\":\"BE Electrical\" ,\"roll_no\": 1234},{\"name\" : \"Hamza\", \"fname\" : \"ABC\" ,\"education\":\"BE Mechanical\" ,\"roll_no\":2345},{\"name\" : \"Umer\", \"fname\" : \"XYZ\" ,\"education\":\"BE Civil\" ,\"roll_no\": 7894}]\n",
    "for i in data:\n",
    "    print(idcard(**i))"
   ]
  },
  {
   "cell_type": "code",
   "execution_count": 42,
   "id": "9ac861a1",
   "metadata": {},
   "outputs": [
    {
     "name": "stdout",
     "output_type": "stream",
     "text": [
      "\n",
      "NED University\n",
      "Post Graduation Diploma\n",
      "Batch-3\n",
      "\n",
      "\n",
      "Student_Name = Moawiz\n",
      "Father_Name  = M Iqbal\n",
      "Education    = BE Electrical\n",
      "Roll_N0      = 1234\n",
      "\n",
      "--------------------------------\n",
      "    \n"
     ]
    }
   ],
   "source": [
    "def idcard(name,fname,education,roll_no):\n",
    "    card =f'''\n",
    "NED University\n",
    "Post Graduation Diploma\n",
    "Batch-3\n",
    "\n",
    "\n",
    "Student_Name = {name}\n",
    "Father_Name  = {fname}\n",
    "Education    = {education}\n",
    "Roll_N0      = {roll_no}\n",
    "\n",
    "--------------------------------\n",
    "    '''\n",
    "    return card\n",
    "\n",
    "A=idcard(\"Moawiz\",'M Iqbal','BE Electrical',1234)\n",
    "print(A)"
   ]
  },
  {
   "cell_type": "code",
   "execution_count": 43,
   "id": "7e0743cd",
   "metadata": {},
   "outputs": [
    {
     "name": "stdout",
     "output_type": "stream",
     "text": [
      "1\n",
      "2\n",
      "3\n"
     ]
    }
   ],
   "source": [
    "a,b,c =[1,2,3]\n",
    "print(a)\n",
    "print(b)\n",
    "print(c)"
   ]
  },
  {
   "cell_type": "markdown",
   "id": "c524585d",
   "metadata": {},
   "source": [
    "## Optional Argument n number"
   ]
  },
  {
   "cell_type": "code",
   "execution_count": 53,
   "id": "c76e1d84",
   "metadata": {},
   "outputs": [
    {
     "name": "stdout",
     "output_type": "stream",
     "text": [
      "1 2 (3, 4, 5, 6, 7, 8)\n"
     ]
    }
   ],
   "source": [
    "def number(num1,num2,*num):\n",
    "    print(num1,num2,num)\n",
    "\n",
    "number(1,2,3,4,5,6,7,8)"
   ]
  },
  {
   "cell_type": "code",
   "execution_count": 55,
   "id": "4d8bc2c7",
   "metadata": {},
   "outputs": [
    {
     "name": "stdout",
     "output_type": "stream",
     "text": [
      "(1, 2, (3, 4, 5, 6, 7, 8))\n"
     ]
    }
   ],
   "source": [
    "def number(num1,num2,*num):\n",
    "    sum  =num1 ,num2 ,num\n",
    "    return sum\n",
    "\n",
    "Add_number=number(1,2,3,4,5,6,7,8)\n",
    "print(Add_number)"
   ]
  },
  {
   "cell_type": "code",
   "execution_count": 56,
   "id": "31bf9181",
   "metadata": {},
   "outputs": [
    {
     "name": "stdout",
     "output_type": "stream",
     "text": [
      "(1, 2, {'name': 'moawiz', 'roll_no': 1223, 'education': 'Be Electrical'})\n"
     ]
    }
   ],
   "source": [
    "def number(num1,num2,**num):\n",
    "    sum  =num1 ,num2 ,num\n",
    "    return sum\n",
    "\n",
    "Add_number=number(1,2,name=\"moawiz\",roll_no=1223,education=\"Be Electrical\")\n",
    "print(Add_number)"
   ]
  },
  {
   "cell_type": "code",
   "execution_count": 63,
   "id": "74ee80e5",
   "metadata": {},
   "outputs": [
    {
     "name": "stdout",
     "output_type": "stream",
     "text": [
      "1 2 (3, 4, 5, 66, 77, 88)\n",
      "246\n"
     ]
    }
   ],
   "source": [
    "def number(num1,num2,*num):\n",
    "    print(num1,num2,num)\n",
    "    print(num1+num2+sum(num))\n",
    "    \n",
    "number(1,2,3,4,5,66,77,88)"
   ]
  },
  {
   "cell_type": "code",
   "execution_count": 66,
   "id": "39fce14d",
   "metadata": {},
   "outputs": [
    {
     "name": "stdout",
     "output_type": "stream",
     "text": [
      "1 2 (3, 4, 5, 66, 77, 88)\n"
     ]
    },
    {
     "data": {
      "text/plain": [
       "246"
      ]
     },
     "execution_count": 66,
     "metadata": {},
     "output_type": "execute_result"
    }
   ],
   "source": [
    "def number(num1,num2,*num):\n",
    "    print(num1,num2,num)\n",
    "    \n",
    "    output = num1 + num2\n",
    "    for n in num:\n",
    "        output += n\n",
    "    \n",
    "    return output\n",
    "    \n",
    "  \n",
    "    \n",
    "number(1,2,3,4,5,66,77,88)\n"
   ]
  },
  {
   "cell_type": "code",
   "execution_count": 77,
   "id": "8426bdf2",
   "metadata": {},
   "outputs": [
    {
     "name": "stdout",
     "output_type": "stream",
     "text": [
      "1 2 {'name': 'moawiz', 'roll_no': 1223, 'education': 'Be Electrical', 'number': 54}\n"
     ]
    },
    {
     "data": {
      "text/plain": [
       "1280"
      ]
     },
     "execution_count": 77,
     "metadata": {},
     "output_type": "execute_result"
    }
   ],
   "source": [
    "def number(num1,num2,**num):\n",
    "    print(num1,num2,num)\n",
    "    output =num1 + num2\n",
    "    \n",
    "    for n in num.values():\n",
    "        if type(n) is type(1):#n is integer\n",
    "            output +=n\n",
    "            \n",
    "    return output\n",
    "\n",
    "number(1,2, name=\"moawiz\", roll_no=1223, education=\"Be Electrical\",number =54)"
   ]
  },
  {
   "cell_type": "code",
   "execution_count": 78,
   "id": "e06da15b",
   "metadata": {},
   "outputs": [
    {
     "name": "stdout",
     "output_type": "stream",
     "text": [
      "The Zen of Python, by Tim Peters\n",
      "\n",
      "Beautiful is better than ugly.\n",
      "Explicit is better than implicit.\n",
      "Simple is better than complex.\n",
      "Complex is better than complicated.\n",
      "Flat is better than nested.\n",
      "Sparse is better than dense.\n",
      "Readability counts.\n",
      "Special cases aren't special enough to break the rules.\n",
      "Although practicality beats purity.\n",
      "Errors should never pass silently.\n",
      "Unless explicitly silenced.\n",
      "In the face of ambiguity, refuse the temptation to guess.\n",
      "There should be one-- and preferably only one --obvious way to do it.\n",
      "Although that way may not be obvious at first unless you're Dutch.\n",
      "Now is better than never.\n",
      "Although never is often better than *right* now.\n",
      "If the implementation is hard to explain, it's a bad idea.\n",
      "If the implementation is easy to explain, it may be a good idea.\n",
      "Namespaces are one honking great idea -- let's do more of those!\n"
     ]
    }
   ],
   "source": [
    "import this\n"
   ]
  },
  {
   "cell_type": "code",
   "execution_count": 93,
   "id": "dbfc76cd",
   "metadata": {},
   "outputs": [
    {
     "name": "stdout",
     "output_type": "stream",
     "text": [
      "[[1, 23, 4, 5], [2, 3, 4, 56, 7], [4, 54, 5, 345, 3]]\n",
      "[1, 23, 4, 5]\n",
      "4\n",
      "33\n",
      "72\n",
      "411\n"
     ]
    }
   ],
   "source": [
    "def my_num(num1 , num2, *num):\n",
    "    return num1 +num2+sum(num)\n",
    "\n",
    "\n",
    "list=[[1,23,4,5],[2,3,4,56,7],[4,54,5,345,3]]\n",
    "print(list)\n",
    "print(list[0])\n",
    "print(list[0][2])\n",
    "\n",
    "for i in list:\n",
    "    print(my_num(*i))\n"
   ]
  },
  {
   "cell_type": "markdown",
   "id": "2b68c7c8",
   "metadata": {},
   "source": [
    "# Generator Function"
   ]
  },
  {
   "cell_type": "code",
   "execution_count": 98,
   "id": "b2773af6",
   "metadata": {},
   "outputs": [
    {
     "name": "stdout",
     "output_type": "stream",
     "text": [
      "2\n",
      "3\n",
      "4\n",
      "5\n",
      "6\n",
      "7\n",
      "8\n",
      "9\n"
     ]
    }
   ],
   "source": [
    "def my_range(num1, num2):  #example of Function\n",
    "    for i in range(num1 , num2+1):\n",
    "        print(i)\n",
    "    \n",
    "my_range(2,9)"
   ]
  },
  {
   "cell_type": "code",
   "execution_count": 100,
   "id": "06c1181a",
   "metadata": {},
   "outputs": [
    {
     "name": "stdout",
     "output_type": "stream",
     "text": [
      "<generator object my_range at 0x0000029F45832DD0>\n",
      "2\n",
      "3\n",
      "4\n",
      "5\n",
      "6\n",
      "7\n"
     ]
    }
   ],
   "source": [
    "def my_range(num1, num2):  # for generator function we use Yield key word\n",
    "    for i in range(num1 , num2+1):\n",
    "        yield i\n",
    "    \n",
    "a=my_range(2,9)\n",
    "print(a)\n",
    "print(next(a))\n",
    "print(next(a))# next is used for generator function to print other iteration\n",
    "print(next(a))\n",
    "print(next(a))\n",
    "print(next(a))\n",
    "print(next(a))"
   ]
  },
  {
   "cell_type": "markdown",
   "id": "e4a523da",
   "metadata": {},
   "source": [
    "# Recursive function"
   ]
  },
  {
   "cell_type": "code",
   "execution_count": 140,
   "id": "b4cbe875",
   "metadata": {},
   "outputs": [
    {
     "data": {
      "text/plain": [
       "21"
      ]
     },
     "execution_count": 140,
     "metadata": {},
     "output_type": "execute_result"
    }
   ],
   "source": [
    "def num(n):\n",
    "    if n == 0:\n",
    "        return n\n",
    "    return n+num(n-1)\n",
    "num(6)"
   ]
  },
  {
   "cell_type": "markdown",
   "id": "ba810c2f",
   "metadata": {},
   "source": [
    "# lambda"
   ]
  },
  {
   "cell_type": "code",
   "execution_count": 103,
   "id": "3f68e516",
   "metadata": {},
   "outputs": [
    {
     "data": {
      "text/plain": [
       "7"
      ]
     },
     "execution_count": 103,
     "metadata": {},
     "output_type": "execute_result"
    }
   ],
   "source": [
    "a = lambda num1, num2 : num1 + num2\n",
    "a(3,4)"
   ]
  },
  {
   "cell_type": "code",
   "execution_count": 118,
   "id": "fe9f70e9",
   "metadata": {},
   "outputs": [
    {
     "name": "stdout",
     "output_type": "stream",
     "text": [
      "[[1, 'x'], [2, 'y'], [3, 'z']]\n"
     ]
    },
    {
     "data": {
      "text/plain": [
       "[[3, 'z'], [2, 'y'], [1, 'x']]"
      ]
     },
     "execution_count": 118,
     "metadata": {},
     "output_type": "execute_result"
    }
   ],
   "source": [
    "data = [[1,\"x\"],[2,\"y\"],[3,\"z\"]]\n",
    "print(data)\n",
    "data.sort(key=lambda x : x[0], reverse = True)\n",
    "data"
   ]
  },
  {
   "cell_type": "code",
   "execution_count": 127,
   "id": "c6238ba8",
   "metadata": {},
   "outputs": [
    {
     "data": {
      "text/plain": [
       "[('apple', 2, 100), ('banana', 43, 200), ('orange', 23, 300)]"
      ]
     },
     "execution_count": 127,
     "metadata": {},
     "output_type": "execute_result"
    }
   ],
   "source": [
    "lst1 = [(\"apple\",2,100),(\"banana\",43,200),(\"orange\",23,300)]\n",
    "lst2 = [(\"apple\",2,100),(\"banana\",43,200),(\"orange\",23,300)]\n",
    "lst1.sort(key=lambda x : x[0], reverse = True) # decending Order\n",
    "lst1\n",
    "lst2.sort(key=lambda x : x[2], reverse = False)#accending Order\n",
    "lst2"
   ]
  },
  {
   "cell_type": "markdown",
   "id": "ebd42c16",
   "metadata": {},
   "source": [
    "# Mapping"
   ]
  },
  {
   "cell_type": "code",
   "execution_count": 155,
   "id": "4564d9b6",
   "metadata": {},
   "outputs": [
    {
     "data": {
      "text/plain": [
       "<map at 0x29f458dbb80>"
      ]
     },
     "execution_count": 155,
     "metadata": {},
     "output_type": "execute_result"
    }
   ],
   "source": [
    "l = [1,2,3,4,5,6,7]\n",
    "(map(lambda x : x +5 ,l))\n"
   ]
  },
  {
   "cell_type": "code",
   "execution_count": 156,
   "id": "65b6b4c9",
   "metadata": {},
   "outputs": [
    {
     "data": {
      "text/plain": [
       "<map at 0x29f4590bcd0>"
      ]
     },
     "execution_count": 156,
     "metadata": {},
     "output_type": "execute_result"
    }
   ],
   "source": [
    "l=[1,2,3,4,5]\n",
    "def abc(x):\n",
    "    return x+5\n",
    "    \n",
    "(map(abc,l))"
   ]
  },
  {
   "cell_type": "markdown",
   "id": "ccc69d17",
   "metadata": {},
   "source": [
    "# filter"
   ]
  },
  {
   "cell_type": "code",
   "execution_count": 157,
   "id": "86f21c38",
   "metadata": {},
   "outputs": [
    {
     "data": {
      "text/plain": [
       "<filter at 0x29f4590bf10>"
      ]
     },
     "execution_count": 157,
     "metadata": {},
     "output_type": "execute_result"
    }
   ],
   "source": [
    "l=[10,20,35,45,50]\n",
    "def abc(x):\n",
    "    if x%2 == 0 :\n",
    "        return x\n",
    "    \n",
    "(filter(abc,l))"
   ]
  },
  {
   "cell_type": "code",
   "execution_count": null,
   "id": "28b370f8",
   "metadata": {},
   "outputs": [],
   "source": []
  }
 ],
 "metadata": {
  "kernelspec": {
   "display_name": "Python 3 (ipykernel)",
   "language": "python",
   "name": "python3"
  },
  "language_info": {
   "codemirror_mode": {
    "name": "ipython",
    "version": 3
   },
   "file_extension": ".py",
   "mimetype": "text/x-python",
   "name": "python",
   "nbconvert_exporter": "python",
   "pygments_lexer": "ipython3",
   "version": "3.9.12"
  }
 },
 "nbformat": 4,
 "nbformat_minor": 5
}
